{
 "cells": [
  {
   "cell_type": "markdown",
   "metadata": {},
   "source": [
    "### Importing Neccessary Libraries "
   ]
  },
  {
   "cell_type": "code",
   "execution_count": 1,
   "metadata": {},
   "outputs": [],
   "source": [
    "import cv2\n"
   ]
  },
  {
   "cell_type": "code",
   "execution_count": 2,
   "metadata": {},
   "outputs": [
    {
     "name": "stderr",
     "output_type": "stream",
     "text": [
      "C:\\Users\\Diksha\\Anaconda3\\lib\\site-packages\\tensorflow\\python\\framework\\dtypes.py:516: FutureWarning: Passing (type, 1) or '1type' as a synonym of type is deprecated; in a future version of numpy, it will be understood as (type, (1,)) / '(1,)type'.\n",
      "  _np_qint8 = np.dtype([(\"qint8\", np.int8, 1)])\n",
      "C:\\Users\\Diksha\\Anaconda3\\lib\\site-packages\\tensorflow\\python\\framework\\dtypes.py:517: FutureWarning: Passing (type, 1) or '1type' as a synonym of type is deprecated; in a future version of numpy, it will be understood as (type, (1,)) / '(1,)type'.\n",
      "  _np_quint8 = np.dtype([(\"quint8\", np.uint8, 1)])\n",
      "C:\\Users\\Diksha\\Anaconda3\\lib\\site-packages\\tensorflow\\python\\framework\\dtypes.py:518: FutureWarning: Passing (type, 1) or '1type' as a synonym of type is deprecated; in a future version of numpy, it will be understood as (type, (1,)) / '(1,)type'.\n",
      "  _np_qint16 = np.dtype([(\"qint16\", np.int16, 1)])\n",
      "C:\\Users\\Diksha\\Anaconda3\\lib\\site-packages\\tensorflow\\python\\framework\\dtypes.py:519: FutureWarning: Passing (type, 1) or '1type' as a synonym of type is deprecated; in a future version of numpy, it will be understood as (type, (1,)) / '(1,)type'.\n",
      "  _np_quint16 = np.dtype([(\"quint16\", np.uint16, 1)])\n",
      "C:\\Users\\Diksha\\Anaconda3\\lib\\site-packages\\tensorflow\\python\\framework\\dtypes.py:520: FutureWarning: Passing (type, 1) or '1type' as a synonym of type is deprecated; in a future version of numpy, it will be understood as (type, (1,)) / '(1,)type'.\n",
      "  _np_qint32 = np.dtype([(\"qint32\", np.int32, 1)])\n",
      "C:\\Users\\Diksha\\Anaconda3\\lib\\site-packages\\tensorflow\\python\\framework\\dtypes.py:525: FutureWarning: Passing (type, 1) or '1type' as a synonym of type is deprecated; in a future version of numpy, it will be understood as (type, (1,)) / '(1,)type'.\n",
      "  np_resource = np.dtype([(\"resource\", np.ubyte, 1)])\n",
      "C:\\Users\\Diksha\\Anaconda3\\lib\\site-packages\\tensorboard\\compat\\tensorflow_stub\\dtypes.py:541: FutureWarning: Passing (type, 1) or '1type' as a synonym of type is deprecated; in a future version of numpy, it will be understood as (type, (1,)) / '(1,)type'.\n",
      "  _np_qint8 = np.dtype([(\"qint8\", np.int8, 1)])\n",
      "C:\\Users\\Diksha\\Anaconda3\\lib\\site-packages\\tensorboard\\compat\\tensorflow_stub\\dtypes.py:542: FutureWarning: Passing (type, 1) or '1type' as a synonym of type is deprecated; in a future version of numpy, it will be understood as (type, (1,)) / '(1,)type'.\n",
      "  _np_quint8 = np.dtype([(\"quint8\", np.uint8, 1)])\n",
      "C:\\Users\\Diksha\\Anaconda3\\lib\\site-packages\\tensorboard\\compat\\tensorflow_stub\\dtypes.py:543: FutureWarning: Passing (type, 1) or '1type' as a synonym of type is deprecated; in a future version of numpy, it will be understood as (type, (1,)) / '(1,)type'.\n",
      "  _np_qint16 = np.dtype([(\"qint16\", np.int16, 1)])\n",
      "C:\\Users\\Diksha\\Anaconda3\\lib\\site-packages\\tensorboard\\compat\\tensorflow_stub\\dtypes.py:544: FutureWarning: Passing (type, 1) or '1type' as a synonym of type is deprecated; in a future version of numpy, it will be understood as (type, (1,)) / '(1,)type'.\n",
      "  _np_quint16 = np.dtype([(\"quint16\", np.uint16, 1)])\n",
      "C:\\Users\\Diksha\\Anaconda3\\lib\\site-packages\\tensorboard\\compat\\tensorflow_stub\\dtypes.py:545: FutureWarning: Passing (type, 1) or '1type' as a synonym of type is deprecated; in a future version of numpy, it will be understood as (type, (1,)) / '(1,)type'.\n",
      "  _np_qint32 = np.dtype([(\"qint32\", np.int32, 1)])\n",
      "C:\\Users\\Diksha\\Anaconda3\\lib\\site-packages\\tensorboard\\compat\\tensorflow_stub\\dtypes.py:550: FutureWarning: Passing (type, 1) or '1type' as a synonym of type is deprecated; in a future version of numpy, it will be understood as (type, (1,)) / '(1,)type'.\n",
      "  np_resource = np.dtype([(\"resource\", np.ubyte, 1)])\n"
     ]
    }
   ],
   "source": [
    "from tensorflow.keras.utils import to_categorical"
   ]
  },
  {
   "cell_type": "code",
   "execution_count": 3,
   "metadata": {},
   "outputs": [],
   "source": [
    "import cv2\n",
    "import os\n",
    "import numpy as np\n",
    "from tensorflow.keras.utils import to_categorical"
   ]
  },
  {
   "cell_type": "code",
   "execution_count": 4,
   "metadata": {},
   "outputs": [],
   "source": [
    "from sklearn.preprocessing import LabelBinarizer"
   ]
  },
  {
   "cell_type": "code",
   "execution_count": 5,
   "metadata": {},
   "outputs": [],
   "source": [
    "from sklearn.model_selection import train_test_split"
   ]
  },
  {
   "cell_type": "markdown",
   "metadata": {},
   "source": [
    "### Data Preprocessing"
   ]
  },
  {
   "cell_type": "code",
   "execution_count": 6,
   "metadata": {},
   "outputs": [
    {
     "name": "stdout",
     "output_type": "stream",
     "text": [
      "['without_mask', 'with_mask']\n"
     ]
    }
   ],
   "source": [
    "# Setting directory to dataset\n",
    "os.chdir(\"C:/Users/Diksha/Desktop/Face_mask_detection\")\n",
    "Dataset=\"Dataset\"\n",
    "Data_dir=os.listdir(Dataset)\n",
    "print(Data_dir)"
   ]
  },
  {
   "cell_type": "code",
   "execution_count": 7,
   "metadata": {},
   "outputs": [],
   "source": [
    "img_rows,img_col=112,112\n",
    "images=[]\n",
    "labels=[]\n",
    "\n",
    "for category in Data_dir:\n",
    "    folder_path = os.path.join(Dataset,category)\n",
    "    for img in os.listdir(folder_path):\n",
    "        img_path=os.path.join(folder_path,img)\n",
    "        img=cv2.imread(img_path)\n",
    "        \n",
    "        try:\n",
    "            grayscale_img=cv2.cvtColor(img,cv2.COLOR_BGR2GRAY)\n",
    "            resized_img=cv2.resize(grayscale_img,(img_rows,img_col))\n",
    "            images.append(resized_img)\n",
    "            labels.append(category)\n",
    "        #exception handling in case of any error\n",
    "        except Exception as e:\n",
    "            print('Exception :',e)\n",
    "images=np.array(images)/255.0\n",
    "images=np.reshape(images,(images.shape[0],img_rows,img_col,1))\n",
    "\n",
    "# One Hot Encoding on the labels\n",
    "lb=LabelBinarizer()\n",
    "labels=lb.fit_transform(labels)\n",
    "labels=to_categorical(labels)\n",
    "labels=np.array(labels)\n",
    "\n",
    "# Spliting the dataset into train and test\n",
    "(train_X,test_X,train_Y,test_Y)=train_test_split(images,labels,test_size=0.25,random_state=0)"
   ]
  },
  {
   "cell_type": "markdown",
   "metadata": {},
   "source": [
    "### Building Convolutional Neural Network(CNN) Classification Model"
   ]
  },
  {
   "cell_type": "code",
   "execution_count": 8,
   "metadata": {},
   "outputs": [
    {
     "name": "stdout",
     "output_type": "stream",
     "text": [
      "WARNING:tensorflow:From C:\\Users\\Diksha\\Anaconda3\\lib\\site-packages\\keras\\backend\\tensorflow_backend.py:4070: The name tf.nn.max_pool is deprecated. Please use tf.nn.max_pool2d instead.\n",
      "\n",
      "Model: \"sequential_1\"\n",
      "_________________________________________________________________\n",
      "Layer (type)                 Output Shape              Param #   \n",
      "=================================================================\n",
      "conv2d_1 (Conv2D)            (None, 110, 110, 64)      640       \n",
      "_________________________________________________________________\n",
      "activation_1 (Activation)    (None, 110, 110, 64)      0         \n",
      "_________________________________________________________________\n",
      "max_pooling2d_1 (MaxPooling2 (None, 55, 55, 64)        0         \n",
      "_________________________________________________________________\n",
      "conv2d_2 (Conv2D)            (None, 53, 53, 128)       73856     \n",
      "_________________________________________________________________\n",
      "activation_2 (Activation)    (None, 53, 53, 128)       0         \n",
      "_________________________________________________________________\n",
      "max_pooling2d_2 (MaxPooling2 (None, 26, 26, 128)       0         \n",
      "_________________________________________________________________\n",
      "flatten_1 (Flatten)          (None, 86528)             0         \n",
      "_________________________________________________________________\n",
      "dropout_1 (Dropout)          (None, 86528)             0         \n",
      "_________________________________________________________________\n",
      "dense_1 (Dense)              (None, 64)                5537856   \n",
      "_________________________________________________________________\n",
      "dense_2 (Dense)              (None, 2)                 130       \n",
      "=================================================================\n",
      "Total params: 5,612,482\n",
      "Trainable params: 5,612,482\n",
      "Non-trainable params: 0\n",
      "_________________________________________________________________\n",
      "None\n"
     ]
    },
    {
     "name": "stderr",
     "output_type": "stream",
     "text": [
      "Using TensorFlow backend.\n"
     ]
    }
   ],
   "source": [
    "# Importing Neccessary Keras Library\n",
    "from keras.models import Sequential\n",
    "from keras.layers import Dense,Activation,Flatten,Dropout,Conv2D,MaxPooling2D\n",
    "\n",
    "# define model parameter\n",
    "num_classes=2\n",
    "batch_size=32\n",
    "\n",
    "# Build CNN model using sequential API\n",
    "model=Sequential()\n",
    "\n",
    "# First layer of model.\n",
    "model.add(Conv2D(64,(3,3),input_shape=(img_rows,img_col,1)))\n",
    "model.add(Activation('relu'))\n",
    "model.add(MaxPooling2D(pool_size=(2,2)))\n",
    "\n",
    "# Second layer of model\n",
    "model.add(Conv2D(128,(3,3)))\n",
    "model.add(Activation('relu'))\n",
    "model.add(MaxPooling2D(pool_size=(2,2)))\n",
    "\n",
    "# Flatten the output layer\n",
    "model.add(Flatten())\n",
    "model.add(Dropout(0.5))\n",
    "\n",
    "# softmax_classifier\n",
    "model.add(Dense(64,activation='relu'))\n",
    "model.add(Dense(num_classes,activation='softmax'))\n",
    "\n",
    "print(model.summary())"
   ]
  },
  {
   "cell_type": "markdown",
   "metadata": {},
   "source": [
    "### Training the Classification Model "
   ]
  },
  {
   "cell_type": "code",
   "execution_count": 9,
   "metadata": {},
   "outputs": [
    {
     "name": "stdout",
     "output_type": "stream",
     "text": [
      "WARNING:tensorflow:From C:\\Users\\Diksha\\Anaconda3\\lib\\site-packages\\keras\\backend\\tensorflow_backend.py:422: The name tf.global_variables is deprecated. Please use tf.compat.v1.global_variables instead.\n",
      "\n",
      "Train on 774 samples, validate on 258 samples\n",
      "Epoch 1/50\n",
      "774/774 [==============================] - 14s 18ms/step - loss: 0.8118 - accuracy: 0.5065 - val_loss: 0.6931 - val_accuracy: 0.4884\n",
      "Epoch 2/50\n",
      "774/774 [==============================] - 15s 19ms/step - loss: 0.6844 - accuracy: 0.5620 - val_loss: 0.6385 - val_accuracy: 0.7791\n",
      "Epoch 3/50\n",
      "774/774 [==============================] - 15s 19ms/step - loss: 0.5271 - accuracy: 0.7377 - val_loss: 0.3630 - val_accuracy: 0.8605\n",
      "Epoch 4/50\n",
      "774/774 [==============================] - 15s 19ms/step - loss: 0.3472 - accuracy: 0.8566 - val_loss: 0.2445 - val_accuracy: 0.9186\n",
      "Epoch 5/50\n",
      "774/774 [==============================] - 14s 19ms/step - loss: 0.2323 - accuracy: 0.9121 - val_loss: 0.2019 - val_accuracy: 0.9225\n",
      "Epoch 6/50\n",
      "774/774 [==============================] - 14s 19ms/step - loss: 0.1705 - accuracy: 0.9341 - val_loss: 0.1471 - val_accuracy: 0.9457\n",
      "Epoch 7/50\n",
      "774/774 [==============================] - 15s 20ms/step - loss: 0.1257 - accuracy: 0.9561 - val_loss: 0.1858 - val_accuracy: 0.9341\n",
      "Epoch 8/50\n",
      "774/774 [==============================] - 16s 21ms/step - loss: 0.0956 - accuracy: 0.9690 - val_loss: 0.2370 - val_accuracy: 0.9031\n",
      "Epoch 9/50\n",
      "774/774 [==============================] - 15s 19ms/step - loss: 0.0717 - accuracy: 0.9690 - val_loss: 0.1840 - val_accuracy: 0.9264\n",
      "Epoch 10/50\n",
      "774/774 [==============================] - 15s 20ms/step - loss: 0.0512 - accuracy: 0.9858 - val_loss: 0.1506 - val_accuracy: 0.9574\n",
      "Epoch 11/50\n",
      "774/774 [==============================] - 16s 21ms/step - loss: 0.0487 - accuracy: 0.9871 - val_loss: 0.1352 - val_accuracy: 0.9496\n",
      "Epoch 12/50\n",
      "774/774 [==============================] - 15s 20ms/step - loss: 0.0923 - accuracy: 0.9664 - val_loss: 0.1579 - val_accuracy: 0.9496\n",
      "Epoch 13/50\n",
      "774/774 [==============================] - 15s 19ms/step - loss: 0.0521 - accuracy: 0.9780 - val_loss: 0.1385 - val_accuracy: 0.9457\n",
      "Epoch 14/50\n",
      "774/774 [==============================] - 16s 20ms/step - loss: 0.0502 - accuracy: 0.9780 - val_loss: 0.3023 - val_accuracy: 0.8798\n",
      "Epoch 15/50\n",
      "774/774 [==============================] - 15s 20ms/step - loss: 0.0889 - accuracy: 0.9690 - val_loss: 0.1334 - val_accuracy: 0.9535\n",
      "Epoch 16/50\n",
      "774/774 [==============================] - 15s 20ms/step - loss: 0.0267 - accuracy: 0.9935 - val_loss: 0.1989 - val_accuracy: 0.9496\n",
      "Epoch 17/50\n",
      "774/774 [==============================] - 16s 21ms/step - loss: 0.0365 - accuracy: 0.9845 - val_loss: 0.1247 - val_accuracy: 0.9535\n",
      "Epoch 18/50\n",
      "774/774 [==============================] - 16s 20ms/step - loss: 0.0291 - accuracy: 0.9910 - val_loss: 0.3034 - val_accuracy: 0.9186\n",
      "Epoch 19/50\n",
      "774/774 [==============================] - 15s 20ms/step - loss: 0.0382 - accuracy: 0.9871 - val_loss: 0.1606 - val_accuracy: 0.9341\n",
      "Epoch 20/50\n",
      "774/774 [==============================] - 15s 19ms/step - loss: 0.0273 - accuracy: 0.9948 - val_loss: 0.1928 - val_accuracy: 0.9380\n",
      "Epoch 21/50\n",
      "774/774 [==============================] - 14s 19ms/step - loss: 0.0185 - accuracy: 0.9974 - val_loss: 0.2368 - val_accuracy: 0.9419\n",
      "Epoch 22/50\n",
      "774/774 [==============================] - 15s 19ms/step - loss: 0.0221 - accuracy: 0.9910 - val_loss: 0.1427 - val_accuracy: 0.9574\n",
      "Epoch 23/50\n",
      "774/774 [==============================] - 15s 19ms/step - loss: 0.0190 - accuracy: 0.9961 - val_loss: 0.1538 - val_accuracy: 0.9457\n",
      "Epoch 24/50\n",
      "774/774 [==============================] - 15s 19ms/step - loss: 0.0152 - accuracy: 0.9948 - val_loss: 0.1943 - val_accuracy: 0.9457\n",
      "Epoch 25/50\n",
      "774/774 [==============================] - 15s 19ms/step - loss: 0.0100 - accuracy: 0.9987 - val_loss: 0.1548 - val_accuracy: 0.9535\n",
      "Epoch 26/50\n",
      "774/774 [==============================] - 16s 21ms/step - loss: 0.0055 - accuracy: 0.9987 - val_loss: 0.2101 - val_accuracy: 0.9457\n",
      "Epoch 27/50\n",
      "774/774 [==============================] - 18s 24ms/step - loss: 0.0165 - accuracy: 0.9948 - val_loss: 0.3093 - val_accuracy: 0.9302\n",
      "Epoch 28/50\n",
      "774/774 [==============================] - 21s 27ms/step - loss: 0.0266 - accuracy: 0.9935 - val_loss: 0.1856 - val_accuracy: 0.9496\n",
      "Epoch 29/50\n",
      "774/774 [==============================] - 20s 26ms/step - loss: 0.0109 - accuracy: 0.9974 - val_loss: 0.1468 - val_accuracy: 0.9535\n",
      "Epoch 30/50\n",
      "774/774 [==============================] - 21s 27ms/step - loss: 0.0112 - accuracy: 0.9974 - val_loss: 0.1770 - val_accuracy: 0.9496\n",
      "Epoch 31/50\n",
      "774/774 [==============================] - 25s 33ms/step - loss: 0.0065 - accuracy: 0.9987 - val_loss: 0.1668 - val_accuracy: 0.9574\n",
      "Epoch 32/50\n",
      "774/774 [==============================] - 25s 33ms/step - loss: 0.0175 - accuracy: 0.9948 - val_loss: 0.1432 - val_accuracy: 0.9535\n",
      "Epoch 33/50\n",
      "774/774 [==============================] - 25s 33ms/step - loss: 0.0196 - accuracy: 0.9897 - val_loss: 0.2050 - val_accuracy: 0.9535\n",
      "Epoch 34/50\n",
      "774/774 [==============================] - 24s 31ms/step - loss: 0.0187 - accuracy: 0.9948 - val_loss: 0.1419 - val_accuracy: 0.9535\n",
      "Epoch 35/50\n",
      "774/774 [==============================] - 25s 32ms/step - loss: 0.0075 - accuracy: 1.0000 - val_loss: 0.1792 - val_accuracy: 0.9496\n",
      "Epoch 36/50\n",
      "774/774 [==============================] - 24s 31ms/step - loss: 0.0076 - accuracy: 0.9974 - val_loss: 0.1874 - val_accuracy: 0.9574\n",
      "Epoch 37/50\n",
      "774/774 [==============================] - 19s 25ms/step - loss: 0.0134 - accuracy: 0.9961 - val_loss: 0.3332 - val_accuracy: 0.9457\n",
      "Epoch 38/50\n",
      "774/774 [==============================] - 19s 25ms/step - loss: 0.0217 - accuracy: 0.9910 - val_loss: 0.2660 - val_accuracy: 0.9419\n",
      "Epoch 39/50\n",
      "774/774 [==============================] - 17s 23ms/step - loss: 0.0071 - accuracy: 0.9987 - val_loss: 0.2481 - val_accuracy: 0.9496\n",
      "Epoch 40/50\n",
      "774/774 [==============================] - 18s 23ms/step - loss: 0.0115 - accuracy: 0.9948 - val_loss: 0.2204 - val_accuracy: 0.9380\n",
      "Epoch 41/50\n",
      "774/774 [==============================] - 18s 24ms/step - loss: 0.0074 - accuracy: 0.9987 - val_loss: 0.2302 - val_accuracy: 0.9535\n",
      "Epoch 42/50\n",
      "774/774 [==============================] - 19s 25ms/step - loss: 0.0130 - accuracy: 0.9961 - val_loss: 0.2284 - val_accuracy: 0.9535\n",
      "Epoch 43/50\n",
      "774/774 [==============================] - 19s 25ms/step - loss: 0.0203 - accuracy: 0.9922 - val_loss: 0.2066 - val_accuracy: 0.9341\n",
      "Epoch 44/50\n",
      "774/774 [==============================] - 19s 24ms/step - loss: 0.0203 - accuracy: 0.9987 - val_loss: 0.3089 - val_accuracy: 0.9341\n",
      "Epoch 45/50\n",
      "774/774 [==============================] - 19s 24ms/step - loss: 0.0347 - accuracy: 0.9897 - val_loss: 0.2412 - val_accuracy: 0.9496\n",
      "Epoch 46/50\n",
      "774/774 [==============================] - 18s 23ms/step - loss: 0.0257 - accuracy: 0.9922 - val_loss: 0.1901 - val_accuracy: 0.9419\n",
      "Epoch 47/50\n",
      "774/774 [==============================] - 19s 24ms/step - loss: 0.0082 - accuracy: 0.9974 - val_loss: 0.2093 - val_accuracy: 0.9457\n",
      "Epoch 48/50\n",
      "774/774 [==============================] - 19s 24ms/step - loss: 0.0044 - accuracy: 0.9987 - val_loss: 0.2433 - val_accuracy: 0.9419\n",
      "Epoch 49/50\n",
      "774/774 [==============================] - 18s 23ms/step - loss: 0.0032 - accuracy: 1.0000 - val_loss: 0.2018 - val_accuracy: 0.9419\n",
      "Epoch 50/50\n",
      "774/774 [==============================] - 18s 23ms/step - loss: 0.0022 - accuracy: 1.0000 - val_loss: 0.2278 - val_accuracy: 0.9535\n"
     ]
    }
   ],
   "source": [
    "from keras.optimizers import Adam\n",
    "epochs =50\n",
    "model.compile(loss='categorical_crossentropy',optimizer=Adam(lr=0.001),metrics=['accuracy'])\n",
    "fitted_model=model.fit(train_X,train_Y,epochs=epochs,validation_split=0.25)"
   ]
  },
  {
   "cell_type": "markdown",
   "metadata": {},
   "source": [
    "### Loss and Accuracy Plot"
   ]
  },
  {
   "cell_type": "code",
   "execution_count": 10,
   "metadata": {},
   "outputs": [
    {
     "data": {
      "image/png": "[encoded data removed]",
      "text/plain": [
       "<Figure size 432x288 with 1 Axes>"
      ]
     },
     "metadata": {
      "needs_background": "light"
     },
     "output_type": "display_data"
    },
    {
     "data": {
      "image/png": "[encoded data removed]",
      "text/plain": [
       "<Figure size 432x288 with 1 Axes>"
      ]
     },
     "metadata": {
      "needs_background": "light"
     },
     "output_type": "display_data"
    }
   ],
   "source": [
    "from matplotlib import pyplot as plt\n",
    "# Plot training and validation loss\n",
    "plt.plot(fitted_model.history['loss'],'r',label='Training Loss')\n",
    "plt.plot(fitted_model.history['val_loss'],'g',label='Validation Loss')\n",
    "plt.xlabel('Number of Epochs')\n",
    "plt.ylabel('Loss Value')\n",
    "plt.legend\n",
    "plt.show()\n",
    "\n",
    "# plot Training and Validation accuracy\n",
    "\n",
    "plt.plot(fitted_model.history['accuracy'],'r',label='Training Accuracy')\n",
    "plt.plot(fitted_model.history['val_accuracy'],'g',label='Training Accuracy')\n",
    "plt.xlabel('Number of Epochs')\n",
    "plt.ylabel('Loss Value')\n",
    "plt.legend\n",
    "plt.show()"
   ]
  },
  {
   "cell_type": "markdown",
   "metadata": {},
   "source": [
    "### Saving the model"
   ]
  },
  {
   "cell_type": "code",
   "execution_count": 11,
   "metadata": {},
   "outputs": [],
   "source": [
    "model.save('face_mask_detection_system.h5')"
   ]
  },
  {
   "cell_type": "markdown",
   "metadata": {},
   "source": [
    "### Opening Webcam For Capturing images"
   ]
  },
  {
   "cell_type": "code",
   "execution_count": 12,
   "metadata": {},
   "outputs": [],
   "source": [
    "# importing neccessary libraries\n",
    "from keras.models import load_model\n",
    "import cv2\n",
    "import numpy as np"
   ]
  },
  {
   "cell_type": "code",
   "execution_count": null,
   "metadata": {},
   "outputs": [],
   "source": [
    "# Load trained deep Learning Model\n",
    "model=load_model('face_mask_detection_system.h5')\n",
    "\n",
    "# classifier to detect face\n",
    "face_det_classifier=cv2.CascadeClassifier('haarcascade_frontalface_default.xml')\n",
    "\n",
    "# Detect Video\n",
    "vid_source=cv2.VideoCapture(0)\n",
    "\n",
    "text_dict={0:'Mask ON',1:'No Mask'}\n",
    "rect_color_dict={0:(0,255,0),1:(0,0,255)}\n",
    "\n",
    "\n",
    "while(True):\n",
    "    ret,img=vid_source.read()\n",
    "    #grayscale_img=cv2.cvtColor(img,cv2.COLOR_BGR2GRAY)\n",
    "    if ret is True:\n",
    "        grayscale_img=cv2.cvtColor(img, cv2.COLOR_BGR2GRAY)\n",
    "    else:\n",
    "        continue\n",
    "    faces=face_det_classifier.detectMultiScale(grayscale_img,1.3,5)\n",
    "    \n",
    "    for(x,y,w,h) in faces:\n",
    "        face_img=grayscale_img[y:y+w,x:x+w]\n",
    "        resized_img=cv2.resize(face_img,(112,112))\n",
    "        normalized_img=resized_img/255.0\n",
    "        reshaped_img=np.reshape(normalized_img,(1,112,112,1))\n",
    "        result=model.predict(reshaped_img)\n",
    "        \n",
    "        label=np.argmax(result,axis=1)[0]\n",
    "        \n",
    "        cv2.rectangle(img,(x,y),(x+w,y+h),rect_color_dict[label],2)\n",
    "        cv2.rectangle(img,(x,y-40),(x+w,y),rect_color_dict[label],-1)\n",
    "        cv2.putText(img,text_dict[label],(x,y-10),cv2.FONT_HERSHEY_SIMPLEX,0.8,(0,0,0),2)\n",
    "       \n",
    "            \n",
    "    cv2.imshow('Live Video Feed',img)\n",
    "    if cv2.waitKey(0) & 0xFF == ord('q'):\n",
    "        break\n",
    "source.release()\n",
    "cv2.destroyAllWindows()"
   ]
  },
  {
   "cell_type": "code",
   "execution_count": null,
   "metadata": {},
   "outputs": [],
   "source": []
  }
 ],
 "metadata": {
  "kernelspec": {
   "display_name": "Python 3",
   "language": "python",
   "name": "python3"
  },
  "language_info": {
   "codemirror_mode": {
    "name": "ipython",
    "version": 3
   },
   "file_extension": ".py",
   "mimetype": "text/x-python",
   "name": "python",
   "nbconvert_exporter": "python",
   "pygments_lexer": "ipython3",
   "version": "3.7.3"
  }
 },
 "nbformat": 4,
 "nbformat_minor": 4
}
